{
 "cells": [
  {
   "cell_type": "code",
   "execution_count": null,
   "metadata": {},
   "outputs": [],
   "source": [
    "import pandas as pd\n",
    "\n",
    "returns = pd.read_csv('result/returns.csv')\n",
    "transactions = pd.read_csv('result/transactions.csv')\n",
    "positions = pd.read_csv('result/positions.csv')\n",
    "gross_lev = pd.read_csv('result/gross_lev.csv')\n",
    "\n",
    "def handle_time(df,col):\n",
    "    df[col] = pd.to_datetime(df[col]).dt.strftime(\"%Y-%m-%d\")\n",
    "    df[col] = pd.to_datetime(df[col])\n",
    "    df = df.set_index(col, drop=True)\n",
    "    return df\n",
    "\n",
    "returns = handle_time(returns,'index')\n",
    "transactions = handle_time(transactions, 'date')\n",
    "positions = handle_time(positions,'Datetime')\n",
    "gross_positions = handle_time(gross_lev,'index')"
   ]
  },
  {
   "cell_type": "code",
   "execution_count": null,
   "metadata": {},
   "outputs": [],
   "source": [
    "\n",
    "import pyfolio as pf\n",
    "%matplotlib inline\n",
    "\n",
    "# silence warnings\n",
    "import warnings\n",
    "warnings.filterwarnings('ignore')\n",
    "pf.create_returns_tear_sheet(returns, live_start_date='2022-4-1')\n",
    "pf.create_full_tear_sheet(returns, positions=positions, transactions=transactions,\n",
    "                        #   live_start_date='2009-10-22', \n",
    "                          hide_positions=True)"
   ]
  }
 ],
 "metadata": {
  "interpreter": {
   "hash": "49d36bf8f308fcd0d0af20a32289761844991a0cfca113b146939afeff6ce995"
  },
  "kernelspec": {
   "display_name": "Python 3.9.7 ('crypto')",
   "language": "python",
   "name": "python3"
  },
  "language_info": {
   "name": "python",
   "version": "3.9.7"
  },
  "orig_nbformat": 4
 },
 "nbformat": 4,
 "nbformat_minor": 2
}
